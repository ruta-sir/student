{
 "cells": [
  {
   "cell_type": "raw",
   "id": "985dbac9",
   "metadata": {
    "vscode": {
     "languageId": "raw"
    }
   },
   "source": [
    "---\n",
    "title: Math Class Homework\n",
    "comments: true\n",
    "layout: post\n",
    "permalink: /csa/unit_01/1_11/homework\n",
    "author: Gurshawn, Anvay, Akshay\n",
    "---"
   ]
  },
  {
   "cell_type": "markdown",
   "id": "25cb951c",
   "metadata": {},
   "source": [
    "## Homework Checklist\n",
    "- 2 Popcorn Hacks\n",
    "- MCQ\n",
    "- Homework Hack"
   ]
  },
  {
   "cell_type": "code",
   "execution_count": 2,
   "id": "99cb0432",
   "metadata": {
    "vscode": {
     "languageId": "java"
    }
   },
   "outputs": [
    {
     "name": "stdout",
     "output_type": "stream",
     "text": [
      "2\n"
     ]
    }
   ],
   "source": [
    "int n = (int) Math.pow(2, 3.0 / 2);\n",
    "System.out.println(n);"
   ]
  },
  {
   "cell_type": "markdown",
   "id": "4567a280",
   "metadata": {},
   "source": [
    "What is printed?\n",
    "\n",
    "A. 2\n",
    "B. 3\n",
    "C. 4\n",
    "D. It does not compile"
   ]
  },
  {
   "cell_type": "code",
   "execution_count": 1,
   "id": "b49bc34c",
   "metadata": {
    "vscode": {
     "languageId": "java"
    }
   },
   "outputs": [],
   "source": [
    "int r = (int) (Math.random() * 6) + 5;"
   ]
  },
  {
   "cell_type": "markdown",
   "id": "4ae4b0ed",
   "metadata": {},
   "source": [
    "Which statement best describes the values produced by:\n",
    "A. An int from 5 to 10, inclusive\n",
    "B. An int from 5 to 11, inclusive\n",
    "C. An int from 6 to 10, inclusive\n",
    "D. An int from 6 to 11, inclusive"
   ]
  },
  {
   "cell_type": "code",
   "execution_count": 3,
   "id": "a75c1ce2",
   "metadata": {
    "vscode": {
     "languageId": "java"
    }
   },
   "outputs": [],
   "source": [
    "long a = Math.round(-3.5);\n",
    "double b = Math.floor(-3.1);\n",
    "double c = Math.ceil(-3.1);\n",
    "int x = (int) a + (int) b + (int) c;\n"
   ]
  },
  {
   "cell_type": "markdown",
   "id": "3c8f86a8",
   "metadata": {},
   "source": [
    "What is the value of x after executing:\n",
    "A. -10\n",
    "B. -9\n",
    "C. -8\n",
    "D. -7"
   ]
  },
  {
   "cell_type": "markdown",
   "id": "72eb9a30",
   "metadata": {
    "vscode": {
     "languageId": "java"
    }
   },
   "source": [
    "Which expression correctly computes the Euclidean distance between points (x1, y1) and (x2, y2)?\n",
    "A.\n",
    "\n",
    "Math.sqrt(Math.pow(x2 - x1, 2) + Math.pow(y2 - y1, 2))\n",
    "\n",
    "\n",
    "B.\n",
    "\n",
    "Math.pow((x2 - x1) + (y2 - y1), 2)\n",
    "\n",
    "\n",
    "C.\n",
    "\n",
    "Math.abs((x2 - x1) + (y2 - y1))\n",
    "\n",
    "\n",
    "D.\n",
    "\n",
    "Math.sqrt(Math.pow(x2 + x1, 2) + Math.pow(y2 + y1, 2))"
   ]
  },
  {
   "cell_type": "code",
   "execution_count": 4,
   "id": "36ced226",
   "metadata": {
    "vscode": {
     "languageId": "java"
    }
   },
   "outputs": [
    {
     "name": "stdout",
     "output_type": "stream",
     "text": [
      "25\n"
     ]
    }
   ],
   "source": [
    "int a = (int) Math.sqrt(26);\n",
    "int b = (int) Math.sqrt(26);\n",
    "System.out.println(a * b);\n"
   ]
  },
  {
   "cell_type": "markdown",
   "id": "cc73b5d5",
   "metadata": {},
   "source": [
    "What is printed?\n",
    "A. 5\n",
    "B. 25\n",
    "C. 26\n",
    "D. 27"
   ]
  },
  {
   "cell_type": "markdown",
   "id": "b9748c44",
   "metadata": {},
   "source": [
    "## Popcorn Hack #1: Power Level Calculator\n",
    "\n",
    "**Your Task:** Create a program that calculates a character's power level.\n",
    "\n",
    "**Requirements:**\n",
    "- Base power = 100\n",
    "- Power formula: `basePower * (1.2)^level`\n",
    "- Ask user for their level (or hard-code level = 10)\n",
    "- Use `Math.pow()` to calculate final power\n",
    "- Print the result\n",
    "\n",
    "**Example Output:**\n",
    "```\n",
    "Level: 10\n",
    "Base Power: 100\n",
    "Final Power: 619.17 (approximately)\n",
    "```\n"
   ]
  },
  {
   "cell_type": "code",
   "execution_count": 6,
   "id": "51c1ad56",
   "metadata": {
    "vscode": {
     "languageId": "java"
    }
   },
   "outputs": [
    {
     "name": "stdout",
     "output_type": "stream",
     "text": [
      "Enter your character's level: \n",
      "=== Power Level Results ===\n",
      "Level: 11\n",
      "Base Power: 100\n",
      "Final Power: 743.01\n"
     ]
    }
   ],
   "source": [
    "import java.util.Scanner;\n",
    "\n",
    "public class PowerLevelCalculator {\n",
    "    \n",
    "    public static void main(String[] args) {\n",
    "        // Initialize constants\n",
    "        final int BASE_POWER = 100;\n",
    "        final double POWER_MULTIPLIER = 1.2;\n",
    "        \n",
    "        // Create scanner for user input\n",
    "        Scanner scanner = new Scanner(System.in);\n",
    "        \n",
    "        // Ask user for their level\n",
    "        System.out.print(\"Enter your character's level: \");\n",
    "        int level = scanner.nextInt();\n",
    "        \n",
    "        // Calculate final power using Math.pow()\n",
    "        double finalPower = BASE_POWER * Math.pow(POWER_MULTIPLIER, level);\n",
    "        \n",
    "        // Print results\n",
    "        System.out.println(\"\\n=== Power Level Results ===\");\n",
    "        System.out.println(\"Level: \" + level);\n",
    "        System.out.println(\"Base Power: \" + BASE_POWER);\n",
    "        System.out.printf(\"Final Power: %.2f\\n\", finalPower);\n",
    "        \n",
    "        scanner.close();\n",
    "    }\n",
    "}\n",
    "PowerLevelCalculator.main(null);\n"
   ]
  },
  {
   "cell_type": "markdown",
   "id": "d0193f4e",
   "metadata": {},
   "source": [
    "## Popcorn Hack #2: Loot Drop Simulator\n",
    "\n",
    "**Your Task:** Create a simple loot drop system that generates random items.\n",
    "\n",
    "**Requirements:**\n",
    "- Generate a random item rarity (1-100)\n",
    "  - 1-60: Common (worth 10-30 gold)\n",
    "  - 61-85: Rare (worth 31-70 gold)\n",
    "  - 86-100: Legendary (worth 71-100 gold)\n",
    "- Use `Math.random()` to generate the rarity number\n",
    "- Use `Math.random()` again to generate gold value within the range\n",
    "- Print what you got!\n",
    "\n",
    "**Example Output:**\n",
    "```\n",
    "Loot Drop!\n",
    "Rarity Roll: 73\n",
    "You got: RARE item\n",
    "Gold Value: 54\n",
    "```\n",
    "\n",
    "**Hint:** You'll need to use if-else statements with your random numbers!\n"
   ]
  },
  {
   "cell_type": "code",
   "execution_count": 7,
   "id": "d48de952",
   "metadata": {
    "vscode": {
     "languageId": "java"
    }
   },
   "outputs": [
    {
     "name": "stdout",
     "output_type": "stream",
     "text": [
      "Loot Drop!\n",
      "Rarity Roll: 9\n",
      "You got: COMMON item\n",
      "Gold Value: 22\n"
     ]
    }
   ],
   "source": [
    "public class LootDropSimulator {\n",
    "    \n",
    "    public static void main(String[] args) {\n",
    "        // Generate random rarity roll (1-100)\n",
    "        int rarityRoll = (int)(Math.random() * 100) + 1;\n",
    "        \n",
    "        // Variables to store rarity name and gold value\n",
    "        String rarity;\n",
    "        int goldValue;\n",
    "        \n",
    "        // Determine rarity and generate appropriate gold value\n",
    "        if (rarityRoll >= 1 && rarityRoll <= 60) {\n",
    "            // Common item (10-30 gold)\n",
    "            rarity = \"COMMON\";\n",
    "            goldValue = (int)(Math.random() * 21) + 10;  // 21 possible values (10-30)\n",
    "        } else if (rarityRoll >= 61 && rarityRoll <= 85) {\n",
    "            // Rare item (31-70 gold)\n",
    "            rarity = \"RARE\";\n",
    "            goldValue = (int)(Math.random() * 40) + 31;  // 40 possible values (31-70)\n",
    "        } else {\n",
    "            // Legendary item (71-100 gold)\n",
    "            rarity = \"LEGENDARY\";\n",
    "            goldValue = (int)(Math.random() * 30) + 71;  // 30 possible values (71-100)\n",
    "        }\n",
    "        \n",
    "        // Print the loot drop results\n",
    "        System.out.println(\"Loot Drop!\");\n",
    "        System.out.println(\"Rarity Roll: \" + rarityRoll);\n",
    "        System.out.println(\"You got: \" + rarity + \" item\");\n",
    "        System.out.println(\"Gold Value: \" + goldValue);\n",
    "    }\n",
    "}\n",
    "\n",
    "LootDropSimulator.main(null);\n"
   ]
  },
  {
   "cell_type": "markdown",
   "id": "f8ed5a34",
   "metadata": {},
   "source": [
    "## Homework Hack: Game Stats Calculator\n",
    "\n",
    "You're creating a simple game and need to write methods to handle player statistics. Complete the following methods using Math class methods you learned in the lesson.\n",
    "\n",
    "### Part A: Health Difference Calculator\n",
    "\n",
    "Write a method that calculates the absolute difference between two players' health values.\n",
    "\n",
    "**Method signature:**\n",
    "```java\n",
    "public static int healthDifference(int player1Health, int player2Health)\n",
    "```\n",
    "\n",
    "**Requirements:**\n",
    "- Use `Math.abs()` to ensure the result is always positive\n",
    "- Return the absolute difference between the two health values\n",
    "\n",
    "**Examples:**\n",
    "- `healthDifference(75, 120)` → `45`\n",
    "- `healthDifference(100, 80)` → `20`\n",
    "- `healthDifference(50, 50)` → `0`\n",
    "\n",
    "### Part B: Attack Damage Calculator\n",
    "\n",
    "Write a method that calculates attack damage using a base damage and a power multiplier.\n",
    "\n",
    "**Method signature:**\n",
    "```java\n",
    "public static double calculateDamage(double baseDamage, double powerLevel)\n",
    "```\n",
    "\n",
    "**Requirements:**\n",
    "- Use `Math.pow()` to calculate: `baseDamage * (1.5 ^ powerLevel)`\n",
    "- Return the total damage as a double\n",
    "\n",
    "**Examples:**\n",
    "- `calculateDamage(10.0, 2)` → `22.5`\n",
    "- `calculateDamage(15.0, 3)` → `50.625`\n",
    "\n",
    "### Part C: Distance Detector\n",
    "\n",
    "Write a method that calculates the distance between a player and an enemy using the distance formula.\n",
    "\n",
    "**Method signature:**\n",
    "```java\n",
    "public static double findDistance(int playerX, int playerY, int enemyX, int enemyY)\n",
    "```\n",
    "\n",
    "**Requirements:**\n",
    "- Use the distance formula: √((x2-x1)² + (y2-y1)²)\n",
    "- Use `Math.pow()` for squaring\n",
    "- Use `Math.sqrt()` for the square root\n",
    "\n",
    "**Examples:**\n",
    "- `findDistance(0, 0, 3, 4)` → `5.0`\n",
    "- `findDistance(1, 1, 4, 5)` → `5.0`\n",
    "\n",
    "### Part D: Random Loot Generator\n",
    "\n",
    "Write a method that generates a random loot value within a specific range.\n",
    "\n",
    "**Method signature:**\n",
    "```java\n",
    "public static int generateLoot(int minValue, int maxValue)\n",
    "```\n",
    "\n",
    "**Requirements:**\n",
    "- Use `Math.random()` and the formula from the lesson\n",
    "- Return a random integer from minValue to maxValue (inclusive)\n",
    "- Formula: `(int)(Math.random() * (max - min + 1)) + min`\n",
    "\n",
    "**Examples:**\n",
    "- `generateLoot(10, 50)` → random number from 10 to 50\n",
    "- `generateLoot(100, 100)` → `100`\n",
    "- `generateLoot(1, 6)` → random number from 1 to 6 (like a dice roll)\n"
   ]
  },
  {
   "cell_type": "code",
   "execution_count": 5,
   "id": "3eb27a30",
   "metadata": {
    "vscode": {
     "languageId": "java"
    }
   },
   "outputs": [
    {
     "name": "stdout",
     "output_type": "stream",
     "text": [
      "=== Game Stats Calculator Tests ===\n",
      "\n",
      "Part A: Health Difference Calculator\n",
      "healthDifference(75, 120) = 45\n",
      "healthDifference(100, 80) = 20\n",
      "healthDifference(50, 50) = 0\n",
      "\n",
      "Part B: Attack Damage Calculator\n",
      "calculateDamage(10.0, 2) = 22.5\n",
      "calculateDamage(15.0, 3) = 50.625\n",
      "\n",
      "Part C: Distance Detector\n",
      "findDistance(0, 0, 3, 4) = 5.0\n",
      "findDistance(1, 1, 4, 5) = 5.0\n",
      "\n",
      "Part D: Random Loot Generator\n",
      "generateLoot(10, 50) = 22\n",
      "generateLoot(10, 50) = 44\n",
      "generateLoot(100, 100) = 100\n",
      "generateLoot(1, 6) = 1\n",
      "generateLoot(1, 6) = 5\n"
     ]
    }
   ],
   "source": [
    "public class GameStatsCalculator {\n",
    "    \n",
    "    // Part A: Health Difference Calculator\n",
    "    public static int healthDifference(int player1Health, int player2Health) {\n",
    "        return Math.abs(player1Health - player2Health);\n",
    "    }\n",
    "    \n",
    "    // Part B: Attack Damage Calculator\n",
    "    public static double calculateDamage(double baseDamage, double powerLevel) {\n",
    "        return baseDamage * Math.pow(1.5, powerLevel);\n",
    "    }\n",
    "    \n",
    "    // Part C: Distance Detector\n",
    "    public static double findDistance(int playerX, int playerY, int enemyX, int enemyY) {\n",
    "        return Math.sqrt(Math.pow(enemyX - playerX, 2) + Math.pow(enemyY - playerY, 2));\n",
    "    }\n",
    "    \n",
    "    // Part D: Random Loot Generator\n",
    "    public static int generateLoot(int minValue, int maxValue) {\n",
    "        return (int)(Math.random() * (maxValue - minValue + 1)) + minValue;\n",
    "    }\n",
    "    \n",
    "    // Main method to test all functions\n",
    "    public static void main(String[] args) {\n",
    "        System.out.println(\"=== Game Stats Calculator Tests ===\\n\");\n",
    "        \n",
    "        // Test Part A: Health Difference\n",
    "        System.out.println(\"Part A: Health Difference Calculator\");\n",
    "        System.out.println(\"healthDifference(75, 120) = \" + healthDifference(75, 120));\n",
    "        System.out.println(\"healthDifference(100, 80) = \" + healthDifference(100, 80));\n",
    "        System.out.println(\"healthDifference(50, 50) = \" + healthDifference(50, 50));\n",
    "        System.out.println();\n",
    "        \n",
    "        // Test Part B: Attack Damage\n",
    "        System.out.println(\"Part B: Attack Damage Calculator\");\n",
    "        System.out.println(\"calculateDamage(10.0, 2) = \" + calculateDamage(10.0, 2));\n",
    "        System.out.println(\"calculateDamage(15.0, 3) = \" + calculateDamage(15.0, 3));\n",
    "        System.out.println();\n",
    "        \n",
    "        // Test Part C: Distance Detector\n",
    "        System.out.println(\"Part C: Distance Detector\");\n",
    "        System.out.println(\"findDistance(0, 0, 3, 4) = \" + findDistance(0, 0, 3, 4));\n",
    "        System.out.println(\"findDistance(1, 1, 4, 5) = \" + findDistance(1, 1, 4, 5));\n",
    "        System.out.println();\n",
    "        \n",
    "        // Test Part D: Random Loot Generator\n",
    "        System.out.println(\"Part D: Random Loot Generator\");\n",
    "        System.out.println(\"generateLoot(10, 50) = \" + generateLoot(10, 50));\n",
    "        System.out.println(\"generateLoot(10, 50) = \" + generateLoot(10, 50));\n",
    "        System.out.println(\"generateLoot(100, 100) = \" + generateLoot(100, 100));\n",
    "        System.out.println(\"generateLoot(1, 6) = \" + generateLoot(1, 6));\n",
    "        System.out.println(\"generateLoot(1, 6) = \" + generateLoot(1, 6));\n",
    "    }\n",
    "}\n",
    "\n",
    "GameStatsCalculator.main(null);\n"
   ]
  },
  {
   "cell_type": "markdown",
   "id": "ce351acd",
   "metadata": {},
   "source": [
    "### Hints to Help You:\n",
    "\n",
    "**For Part A (Health Difference):**\n",
    "- Remember: `Math.abs()` makes any negative number positive\n",
    "- Just subtract the two health values and use `Math.abs()` on the result\n",
    "\n",
    "**For Part B (Attack Damage):**\n",
    "- Remember: `Math.pow(base, exponent)` calculates base^exponent\n",
    "- The formula is: baseDamage × (1.5)^powerLevel\n",
    "- Don't forget `Math.pow()` returns a double\n",
    "\n",
    "**For Part C (Distance):**\n",
    "- Use the Pythagorean theorem: distance = √((x2-x1)² + (y2-y1)²)\n",
    "- Square the differences using `Math.pow(difference, 2)`\n",
    "- Then use `Math.sqrt()` on the sum\n",
    "\n",
    "**For Part D (Random Loot):**\n",
    "- Use the exact formula from the lesson: `(int)(Math.random() * (max - min + 1)) + min`\n",
    "- Make sure to include the `+1` to make the max inclusive!\n",
    "\n",
    "---\n",
    "\n",
    "## What to Submit:\n",
    "\n",
    "1. ✅ Complete **2 Popcorn Hacks** from the lesson (Power Level Calculator & Loot Drop Simulator)\n",
    "2. ✅ Answer all **5 MCQ questions** above\n",
    "3. ✅ Complete all **4 parts (A-D)** of the Homework Hack\n",
    "4. ✅ Submit the link to your blog in the form below\n",
    "\n",
    "**Grading:**\n",
    "- Popcorn Hacks: 0.2 points\n",
    "- MCQ: 0.30 points  \n",
    "- Homework Hack (Parts A-D): 0.50 points\n",
    "\n",
    "\n",
    "## Due by Oct 17th\n",
    "\n"
   ]
  },
  {
   "cell_type": "markdown",
   "id": "903a67b2",
   "metadata": {},
   "source": [
    "## Submit Your Work\n",
    "\n",
    "Complete the form below to submit your MC answers and blog link:\n",
    "\n",
    "<iframe src=\"https://docs.google.com/forms/d/e/1FAIpQLSeb5Z08fc9-AcTt-O7pcqOWChzBVEvB2x7rEX253Z9XRNdvCQ/viewform?embedded=true\" width=\"100%\" height=\"1200\" frameborder=\"0\" marginheight=\"0\" marginwidth=\"0\">Loading…</iframe>\n",
    "\n"
   ]
  },
  {
   "cell_type": "markdown",
   "id": "29a3c31f",
   "metadata": {},
   "source": []
  }
 ],
 "metadata": {
  "kernelspec": {
   "display_name": "java (JJava/j!)",
   "language": "java",
   "name": "jbang-jjava"
  },
  "language_info": {
   "codemirror_mode": "java",
   "file_extension": ".jshell",
   "mimetype": "text/x-java-source",
   "name": "Java",
   "pygments_lexer": "java",
   "version": "17.0.16+0"
  }
 },
 "nbformat": 4,
 "nbformat_minor": 5
}
