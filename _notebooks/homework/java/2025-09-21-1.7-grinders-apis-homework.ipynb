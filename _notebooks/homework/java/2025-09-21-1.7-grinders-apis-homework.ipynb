{
 "cells": [
  {
   "cell_type": "raw",
   "metadata": {
    "vscode": {
     "languageId": "raw"
    }
   },
   "source": [
    "---\n",
    "title: Application Program Interface (API) and Libraries Homework\n",
    "comments: true\n",
    "layout: post\n",
    "permalink: /csa/unit_01/1_7/homework\n",
    "description: Understanding Application Program Interfaces and Java Libraries - Homework\n",
    "author: Yuva, Yash, Nolan\n",
    "---"
   ]
  },
  {
   "cell_type": "markdown",
   "metadata": {},
   "source": [
    "---\n",
    "\n",
    "## 🍿 Popcorn Hack #1: Using Documentation (5 minutes)\n",
    "\n",
    "**Task:** Use the Math class and ArrayList class based on their documentation.\n",
    "\n",
    "Complete the following:\n",
    "1. Use `Math.pow()` to calculate 3^4\n",
    "2. Use `Math.sqrt()` to find square root of 64\n",
    "3. Create an ArrayList of Strings\n",
    "4. Add 3 colors to the ArrayList\n",
    "5. Print the ArrayList size"
   ]
  },
  {
   "cell_type": "code",
   "execution_count": null,
   "metadata": {},
   "outputs": [],
   "source": [
    "// Popcorn Hack #1: Complete this code\n",
    "\n",
    "import java.util.ArrayList;\n",
    "\n",
    "public class PopcornHack1 {\n",
    "    public static void main(String[] args) {\n",
    "        // TODO: Use Math.pow() to calculate 3^4\n",
    "        \n",
    "        // TODO: Use Math.sqrt() to find square root of 64\n",
    "        \n",
    "        // TODO: Create ArrayList of Strings\n",
    "        \n",
    "        // TODO: Add 3 colors (\"red\", \"blue\", \"green\")\n",
    "        \n",
    "        // TODO: Print the size\n",
    "        \n",
    "    }\n",
    "}\n",
    "\n",
    "// PopcornHack1.main(null);"
   ]
  },
  {
   "cell_type": "markdown",
   "metadata": {},
   "source": [
    "---\n",
    "\n",
    "## 🍿 Popcorn Hack #2: Attributes and Behaviors (5 minutes)\n",
    "\n",
    "**Task:** Create a `Book` class with attributes and behaviors.\n",
    "\n",
    "**Requirements:**\n",
    "\n",
    "**Attributes (3):**\n",
    "- `title` (String)\n",
    "- `author` (String)  \n",
    "- `pages` (int)\n",
    "\n",
    "**Behaviors (3 methods):**\n",
    "1. Constructor to set all attributes\n",
    "2. `displayInfo()` - print all book info\n",
    "3. `isLong()` - return true if pages > 300\n",
    "\n",
    "**Test:** Create a Book object and call all methods."
   ]
  },
  {
   "cell_type": "code",
   "execution_count": null,
   "metadata": {},
   "outputs": [],
   "source": [
    "// Popcorn Hack #2: Complete the Book class\n",
    "\n",
    "public class Book {\n",
    "    // TODO: Add 3 attributes (title, author, pages)\n",
    "    \n",
    "    // TODO: Add constructor\n",
    "    \n",
    "    // TODO: Add displayInfo() method\n",
    "    \n",
    "    // TODO: Add isLong() method (returns true if pages > 300)\n",
    "    \n",
    "}\n",
    "\n",
    "// TODO: Create a Book object and test all methods\n",
    "// Example: Book myBook = new Book(\"Java Basics\", \"John Doe\", 350);\n"
   ]
  },
  {
   "cell_type": "markdown",
   "metadata": {},
   "source": [
    "---\n",
    "\n",
    "## 📝 Homework Hack: Phone Class\n",
    "\n",
    "Create a `Phone` class that demonstrates **all concepts** from this lesson:\n",
    "- Libraries/Classes\n",
    "- Packages (use ArrayList from java.util)\n",
    "- Attributes\n",
    "- Behaviors\n",
    "\n",
    "### Requirements:\n",
    "\n",
    "**Attributes (4):**\n",
    "- `brand` (String)\n",
    "- `model` (String)\n",
    "- `batteryLevel` (int) - starts at 100\n",
    "- `contacts` (ArrayList<String>)\n",
    "\n",
    "**Behaviors (5 methods):**\n",
    "1. Constructor - sets brand and model, initializes empty contacts list\n",
    "2. `displayInfo()` - prints brand, model, and battery level\n",
    "3. `addContact(String name)` - adds name to contacts list\n",
    "4. `showContacts()` - prints all contacts\n",
    "5. `usePhone(int minutes)` - decreases battery by minutes used\n",
    "\n",
    "**Testing:**\n",
    "- Create 2 Phone objects\n",
    "- Add 3 contacts to each phone\n",
    "- Use phone for some minutes\n",
    "- Display all information\n",
    "\n",
    "### Grading:\n",
    "- Correct attributes (4 points)\n",
    "- Correct methods (5 points)\n",
    "- Proper use of ArrayList from java.util (3 points)\n",
    "- Complete testing (3 points)\n",
    "- **Total: 15 points**"
   ]
  },
  {
   "cell_type": "code",
   "execution_count": 17,
   "metadata": {},
   "outputs": [],
   "source": [
    "// Homework Hack: Complete the Phone class\n",
    "\n",
    "import java.util.ArrayList;\n",
    "\n",
    "public class Phone {\n",
    "    // TODO: Add 4 attributes\n",
    "    \n",
    "    // TODO: Add constructor\n",
    "    \n",
    "    // TODO: Add displayInfo() method\n",
    "    \n",
    "    // TODO: Add addContact(String name) method\n",
    "    \n",
    "    // TODO: Add showContacts() method\n",
    "    \n",
    "    // TODO: Add usePhone(int minutes) method\n",
    "    \n",
    "}\n",
    "\n",
    "// Test your Phone class\n",
    "public class PhoneTest {\n",
    "    public static void main(String[] args) {\n",
    "        // TODO: Create 2 Phone objects\n",
    "        \n",
    "        // TODO: Add 3 contacts to each\n",
    "        \n",
    "        // TODO: Use phones for some minutes\n",
    "        \n",
    "        // TODO: Display all information\n",
    "        \n",
    "    }\n",
    "}\n",
    "\n",
    "// PhoneTest.main(null);"
   ]
  }
 ],
 "metadata": {
  "kernelspec": {
   "display_name": "Java",
   "language": "java",
   "name": "java"
  },
  "language_info": {
   "codemirror_mode": "java",
   "file_extension": ".jshell",
   "mimetype": "text/x-java-source",
   "name": "java",
   "pygments_lexer": "java",
   "version": "11.0.12"
  }
 },
 "nbformat": 4,
 "nbformat_minor": 2
}
