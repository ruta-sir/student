{
 "cells": [
  {
   "cell_type": "raw",
   "id": "354709c5",
   "metadata": {
    "vscode": {
     "languageId": "raw"
    }
   },
   "source": [
    "---\n",
    "title: Object Creation and Storage (Instantiation)\n",
    "comments: true\n",
    "layout: post\n",
    "permalink: /csa/unit_01/1_13/homework\n",
    "author: Nora, Soni, Avika\n",
    "---"
   ]
  },
  {
   "cell_type": "markdown",
   "id": "e3425e8d",
   "metadata": {},
   "source": [
    "# Popcorn Hack #1: Stack vs Heap\n",
    "Run the following code in your own notebook and observe:"
   ]
  },
  {
   "cell_type": "code",
   "execution_count": 6,
   "id": "45df7004",
   "metadata": {},
   "outputs": [
    {
     "name": "stdout",
     "output_type": "stream",
     "text": [
      "Primitives (Stack):\n",
      "a = 10\n",
      "b = 20\n",
      "\n",
      "Arrays (Heap):\n",
      "array1[0] = 99\n",
      "array2[0] = 99\n"
     ]
    }
   ],
   "source": [
    "public class MemoryDemo {\n",
    "    public static void main(String[] args) {\n",
    "        // Stack variables\n",
    "        int a = 10;\n",
    "        int b = a;  // Copy of value\n",
    "        b = 20;     // Changing b doesn't affect a\n",
    "        \n",
    "        System.out.println(\"Primitives (Stack):\");\n",
    "        System.out.println(\"a = \" + a);  // Still 10\n",
    "        System.out.println(\"b = \" + b);  // Now it's 20\n",
    "        \n",
    "        // Heap variables\n",
    "        int[] array1 = {1, 2, 3};\n",
    "        int[] array2 = array1;  // Copy of reference (address)\n",
    "        array2[0] = 99;         // Changing array2 DOES affect array1\n",
    "        \n",
    "        System.out.println(\"\\nArrays (Heap):\");\n",
    "        System.out.println(\"array1[0] = \" + array1[0]);  // Now it's 99!\n",
    "        System.out.println(\"array2[0] = \" + array2[0]);  // Also 99\n",
    "    }\n",
    "}\n",
    "MemoryDemo.main(null);\n"
   ]
  },
  {
   "cell_type": "markdown",
   "id": "684e24cb",
   "metadata": {},
   "source": [
    "# Popcorn Hack #2: Understanding Pass-by-Reference\n",
    "Examine the code below and predict the output before running it:"
   ]
  },
  {
   "cell_type": "markdown",
   "id": "2bcf9daf",
   "metadata": {},
   "source": [
    "Predicted Output:\n",
    "\n",
    "Before birthday: John is 20\n",
    "\n",
    "Inside method: John is now 21\n",
    "\n",
    "After birthday: John is 21\n",
    "\n",
    "\n",
    "Before reassign: John is 21\n",
    "\n",
    "Inside reassign: New Person is 99\n",
    "\n",
    "After reassign: John is 21"
   ]
  },
  {
   "cell_type": "code",
   "execution_count": 7,
   "id": "002b4b21",
   "metadata": {},
   "outputs": [
    {
     "name": "stdout",
     "output_type": "stream",
     "text": [
      "Before birthday: John is 20\n",
      "Inside method: John is now 21\n",
      "After birthday: John is 21\n",
      "\n",
      "Before reassign: John is 21\n",
      "Inside reassign: New Person is 99\n",
      "After reassign: John is 21\n"
     ]
    }
   ],
   "source": [
    "public class PersonDemo {\n",
    "    static class Person {\n",
    "        String name;\n",
    "        int age;\n",
    "        \n",
    "        Person(String name, int age) {\n",
    "            this.name = name;\n",
    "            this.age = age;\n",
    "        }\n",
    "    }\n",
    "    \n",
    "    public static void haveBirthday(Person p) {\n",
    "        p.age = p.age + 1;  // Modifying object content\n",
    "        System.out.println(\"Inside method: \" + p.name + \" is now \" + p.age);\n",
    "    }\n",
    "    \n",
    "    public static void reassignPerson(Person p) {\n",
    "        p = new Person(\"New Person\", 99);  // Reassigning reference\n",
    "        System.out.println(\"Inside reassign: \" + p.name + \" is \" + p.age);\n",
    "    }\n",
    "    \n",
    "    public static void main(String[] args) {\n",
    "        Person john = new Person(\"John\", 20);\n",
    "        \n",
    "        System.out.println(\"Before birthday: \" + john.name + \" is \" + john.age);\n",
    "        haveBirthday(john);\n",
    "        System.out.println(\"After birthday: \" + john.name + \" is \" + john.age);\n",
    "        \n",
    "        System.out.println(\"\\nBefore reassign: \" + john.name + \" is \" + john.age);\n",
    "        reassignPerson(john);\n",
    "        System.out.println(\"After reassign: \" + john.name + \" is \" + john.age);\n",
    "    }\n",
    "}\n",
    "PersonDemo.main(null);\n"
   ]
  },
  {
   "cell_type": "markdown",
   "id": "870cbd34",
   "metadata": {},
   "source": [
    "## Homework Hack #1: Object Creation Practice"
   ]
  },
  {
   "cell_type": "code",
   "execution_count": 8,
   "id": "4fa4bd60",
   "metadata": {},
   "outputs": [
    {
     "name": "stdout",
     "output_type": "stream",
     "text": [
      "Car: Tesla (2024)\n",
      "Car: Toyota (2020)\n"
     ]
    }
   ],
   "source": [
    "public class ObjectCreation {\n",
    "    public static void main(String[] args) {\n",
    "        // 1. Create two Car objects using 'new'\n",
    "        Car car1 = new Car(\"Tesla\", 2024);\n",
    "        Car car2 = new Car(\"Toyota\", 2020);\n",
    "\n",
    "        // 2. Print each car's info\n",
    "        System.out.println(car1);\n",
    "        System.out.println(car2);\n",
    "    }\n",
    "}\n",
    "\n",
    "class Car {\n",
    "    String brand;\n",
    "    int year;\n",
    "\n",
    "    public Car(String brand, int year) {\n",
    "        this.brand = brand;\n",
    "        this.year = year;\n",
    "    }\n",
    "\n",
    "    public String toString() {\n",
    "        return \"Car: \" + brand + \" (\" + year + \")\";\n",
    "    }\n",
    "}\n",
    "\n",
    "ObjectCreation.main(null);"
   ]
  },
  {
   "cell_type": "markdown",
   "id": "5dfeb6ec",
   "metadata": {},
   "source": [
    "## Homework Hack #2 — Heap vs Stack Storage Demo"
   ]
  },
  {
   "cell_type": "code",
   "execution_count": 9,
   "id": "87b5929f",
   "metadata": {},
   "outputs": [
    {
     "name": "stdout",
     "output_type": "stream",
     "text": [
      "Primitive values:\n",
      "pages = 200\n",
      "copyPages = 100\n",
      "\n",
      "Object references:\n",
      "b1 = Book title: Advanced Java\n",
      "b2 = Book title: Advanced Java\n"
     ]
    }
   ],
   "source": [
    "// Homework Hack #2: Heap vs Stack Storage Demo\n",
    "\n",
    "public class HeapVsStack {\n",
    "    public static void main(String[] args) {\n",
    "        // 1. Create a primitive variable (int pages)\n",
    "        int pages = 100;\n",
    "\n",
    "        // 2. Create another primitive variable that copies it\n",
    "        int copyPages = pages;\n",
    "\n",
    "        // 3. Create a Book object\n",
    "        Book b1 = new Book(\"Java Basics\");\n",
    "\n",
    "        // 4. Create another Book reference (points to same object)\n",
    "        Book b2 = b1;\n",
    "\n",
    "        // 5. Change the original primitive and the Book title\n",
    "        pages = 200;\n",
    "        b1.title = \"Advanced Java\";\n",
    "\n",
    "        // 6. Print both sets of values to compare behavior\n",
    "        System.out.println(\"Primitive values:\");\n",
    "        System.out.println(\"pages = \" + pages);\n",
    "        System.out.println(\"copyPages = \" + copyPages);\n",
    "\n",
    "        System.out.println(\"\\nObject references:\");\n",
    "        System.out.println(\"b1 = \" + b1);\n",
    "        System.out.println(\"b2 = \" + b2);\n",
    "    }\n",
    "}\n",
    "\n",
    "class Book {\n",
    "    // 1. Declare variable: String title\n",
    "    String title;\n",
    "\n",
    "    // 2. Create a constructor to set the title\n",
    "    public Book(String title) {\n",
    "        this.title = title;\n",
    "    }\n",
    "\n",
    "    // 3. Create a toString() to show the title\n",
    "    public String toString() {\n",
    "        return \"Book title: \" + title;\n",
    "    }\n",
    "}\n",
    "\n",
    "HeapVsStack.main(null);\n"
   ]
  }
 ],
 "metadata": {
  "kernelspec": {
   "display_name": "java (JJava/j!)",
   "language": "java",
   "name": "jbang-jjava"
  },
  "language_info": {
   "codemirror_mode": "java",
   "file_extension": ".jshell",
   "mimetype": "text/x-java-source",
   "name": "java",
   "pygments_lexer": "java",
   "version": "17.0.16+0"
  }
 },
 "nbformat": 4,
 "nbformat_minor": 5
}
