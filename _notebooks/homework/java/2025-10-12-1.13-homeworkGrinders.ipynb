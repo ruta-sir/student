{
 "cells": [
  {
   "cell_type": "raw",
   "id": "354709c5",
   "metadata": {
    "vscode": {
     "languageId": "raw"
    }
   },
   "source": [
    "---\n",
    "title: Object Creation and Storage (Instantiation)\n",
    "comments: true\n",
    "layout: post\n",
    "permalink: /csa/unit_01/1_13/homework\n",
    "author: Nora, Soni, Avika\n",
    "---"
   ]
  },
  {
   "cell_type": "code",
   "execution_count": null,
   "id": "4fa4bd60",
   "metadata": {
    "vscode": {
     "languageId": "java"
    }
   },
   "outputs": [],
   "source": [
    "// Homework Hack #1: Object Creation Practice\n",
    "\n",
    "public class ObjectCreation {\n",
    "    public static void main(String[] args) {\n",
    "        // 1. Create two Car objects using 'new'\n",
    "        // Example: Car car1 = new Car(\"Tesla\", 2024);\n",
    "\n",
    "        // 2. Print each car's info\n",
    "        // Example: System.out.println(car1);\n",
    "    }\n",
    "}\n",
    "\n",
    "class Car {\n",
    "    // 1. Declare variables: brand, year\n",
    "\n",
    "    // 2. Create a constructor to set those variables\n",
    "\n",
    "    // 3. Add a method or toString() to display car info\n",
    "}\n"
   ]
  },
  {
   "cell_type": "markdown",
   "id": "5dfeb6ec",
   "metadata": {},
   "source": [
    "## Homework Hack #2 — Heap vs Stack Storage Demo\n",
    "\n",
    "**Goal** - Understand where data is stored in memory — stack vs heap.\n",
    "<br>\n",
    "Instructions:\n",
    "- Create a Book class with one variable: String title.\n",
    "- In main(), create:\n",
    "- A primitive variable (e.g. int pages = 300;)\n",
    "- A Book object (e.g. Book b1 = new Book(\"Java Basics\");)\n",
    "- Copy both into new variables (int pagesCopy = pages;, Book b2 = b1;)\n",
    "<br>\n",
    "Change the original values and print everything — watch what changes."
   ]
  },
  {
   "cell_type": "code",
   "execution_count": null,
   "id": "87b5929f",
   "metadata": {
    "vscode": {
     "languageId": "java"
    }
   },
   "outputs": [],
   "source": [
    "// Homework Hack #2: Heap vs Stack Storage Demo\n",
    "\n",
    "public class HeapVsStack {\n",
    "    public static void main(String[] args) {\n",
    "        // 1. Create a primitive variable (int pages)\n",
    "        \n",
    "        // 2. Create another primitive variable that copies it\n",
    "        \n",
    "        // 3. Create a Book object (Book b1 = new Book(\"Java Basics\");)\n",
    "        \n",
    "        // 4. Create another Book reference (Book b2 = b1;)\n",
    "        \n",
    "        // 5. Change the original primitive and the Book title\n",
    "        \n",
    "        // 6. Print both sets of values to compare behavior\n",
    "    }\n",
    "}\n",
    "\n",
    "class Book {\n",
    "    // 1. Declare variable: String title\n",
    "    \n",
    "    // 2. Create a constructor to set the title\n",
    "    \n",
    "    // 3. Create a toString() to show the title\n",
    "}\n"
   ]
  }
 ],
 "metadata": {
  "kernelspec": {
   "display_name": "venv (3.12.5)",
   "language": "python",
   "name": "python3"
  },
  "language_info": {
   "codemirror_mode": {
    "name": "ipython",
    "version": 3
   },
   "file_extension": ".py",
   "mimetype": "text/x-python",
   "name": "python",
   "nbconvert_exporter": "python",
   "pygments_lexer": "ipython3",
   "version": "3.12.5"
  }
 },
 "nbformat": 4,
 "nbformat_minor": 5
}
