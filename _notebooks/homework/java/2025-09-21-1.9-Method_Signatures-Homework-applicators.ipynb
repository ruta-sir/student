{
  "cells": [
    {
      "cell_type": "raw",
      "metadata": {
        "vscode": {
          "languageId": "raw"
        }
      },
      "source": [
        "---\n",
        "title: Method Signatures — Homework (1.9)\n",
        "comments: true\n",
        "layout: post\n",
        "permalink: /csa/unit_01/1_9/homework\n",
        "author: Aashray, Sai, Manas\n",
        "---"
      ]
    },
    {
      "cell_type": "markdown",
      "metadata": {},
      "source": [
        "## AP CSA 1.9 — Method Signatures: Homework\n",
        "\n",
        "Complete all parts. Submit this executed notebook on GitHub Pages and answer MCQs on the Google Form.\n"
      ]
    },
    {
      "cell_type": "markdown",
      "metadata": {},
      "source": [
        "### Popcorn Hack: Write and test max overloads\n",
        "Instructions: Write two overloaded methods named max that each return the larger of two numbers.\n",
        "\n",
        "One should accept two int values.\n",
        "\n",
        "The other should accept two double values.\n",
        "\n",
        "Then, test both versions in the main method."
      ]
    },
    {
      "cell_type": "code",
      "execution_count": null,
      "metadata": {
        "vscode": {
          "languageId": "java"
        }
      },
      "outputs": [
        {
          "name": "stdout",
          "output_type": "stream",
          "text": [
            "9\n",
            "-2\n",
            "3.5\n",
            "2.0\n"
          ]
        }
      ],
      "source": [
        "public class PopcornMax {\n",
        "    public static int max(int a, int b) {\n",
        "        if (a > b) {\n",
        "            return a;\n",
        "        } else {\n",
        "            return b;\n",
        "        }\n",
        "    }\n",
        "\n",
        "    public static double max(double a, double b) {\n",
        "        if (a > b) {\n",
        "            return a;\n",
        "        } else {\n",
        "            return b;\n",
        "        }\n",
        "    }\n",
        "\n",
        "    public static void main(String[] args) {\n",
        "        System.out.println(max(3, 9));    \n",
        "        System.out.println(max(-2, -7)); \n",
        "        System.out.println(max(3.5, 2.9)); \n",
        "        System.out.println(max(2, 2.0));   \n",
        "    }\n",
        "}\n",
        "\n",
        "PopcornMax.main(null);\n"
      ]
    },
    {
      "cell_type": "markdown",
      "metadata": {},
      "source": [
        "### Popcorn Hack 1 Answer:\n",
        "\n",
        "```java\n",
        "public class PopcornMax {\n",
        "    // int overload\n",
        "    public static int max(int a, int b) {\n",
        "        return a >= b ? a : b;\n",
        "    }\n",
        "\n",
        "    // double overload\n",
        "    public static double max(double a, double b) {\n",
        "        return a >= b ? a : b;\n",
        "    }\n",
        "\n",
        "    public static void main(String[] args) {\n",
        "        System.out.println(max(3, 9));      // 9\n",
        "        System.out.println(max(-2, -7));    // -2\n",
        "        System.out.println(max(3.5, 2.9));  // 3.5\n",
        "        System.out.println(max(2, 2.0));    // 2.0  (int 2 promoted to double → calls max(double,double))\n",
        "    }\n",
        "}\n",
        "```"
      ]
    },
    {
      "cell_type": "markdown",
      "metadata": {},
      "source": [
        "### Popcorn Hack: Overload print for int and String\n",
        "Instructions:Implement two overloaded print methods — one that accepts an int and prints int:<n> and another that accepts String and prints str:<s>. Test with mixed types.\n"
      ]
    },
    {
      "cell_type": "code",
      "execution_count": 3,
      "metadata": {
        "vscode": {
          "languageId": "java"
        }
      },
      "outputs": [
        {
          "name": "stdout",
          "output_type": "stream",
          "text": [
            "int:42\n",
            "str:hello\n",
            "str:A!\n"
          ]
        }
      ],
      "source": [
        "public class PopcornPrint {\n",
        "    static void print(int n) {\n",
        "        System.out.println(\"int:\" + n);\n",
        "    }\n",
        "\n",
        "    static void print(String s) {\n",
        "        System.out.println(\"str:\" + s);\n",
        "    }\n",
        "\n",
        "    public static void main(String[] args) {\n",
        "        print(42);          \n",
        "        print(\"hello\");    \n",
        "        print('A' + \"!\"); \n",
        "    }\n",
        "}\n",
        "\n",
        "PopcornPrint.main(null);"
      ]
    },
    {
      "cell_type": "markdown",
      "metadata": {},
      "source": [
        "### Popcorn Hack 2 Answer:\n",
        "```java\n",
        "public class PopcornPrint {\n",
        "    static void print(int n) {\n",
        "        System.out.println(\"int:\" + n);\n",
        "    }\n",
        "\n",
        "    static void print(String s) {\n",
        "        System.out.println(\"str:\" + s);\n",
        "    }\n",
        "\n",
        "    public static void main(String[] args) {\n",
        "        print(42);          // int:42\n",
        "        print(\"hello\");     // str:hello\n",
        "        print('A' + \"!\");   // str:A!\n",
        "    }\n",
        "}\n",
        "```"
      ]
    },
    {
      "cell_type": "markdown",
      "metadata": {},
      "source": [
        "### MCQs\n",
        "1) Which pair is a valid overload?\n",
        "- A) `int f(int a)` and `int f(int x)`\n",
        "- B) `int f(int a)` and `double f(int a)`\n",
        "- C) `int f(int a)` and `double f(double a)`\n",
        "- D) `int f(int a, int b)` and `int f(int a, int b)`\n",
        "\n",
        "Answer: C\n",
        "\n",
        "2) Which is the AP CSA notion of a method signature?\n",
        "- A) `public static int max(int a, int b)`\n",
        "- B) `max(int, int)`\n",
        "- C) `max(int a, int b) throws Exception`\n",
        "- D) `max(int, double)`\n",
        "\n",
        "Answer: B\n",
        "3) With the overloads `void p(int x)` and `void p(double x)`, what prints?\n",
        "```java\n",
        "p(5);\n",
        "p(5.0);\n",
        "```\n",
        "- A) `int`, `double`\n",
        "- B) `double`, `double`\n",
        "- C) `int`, `int`\n",
        "- D) Compile error\n",
        "\n",
        "Answer: A\n",
        "\n",
        "4) Which call is ambiguous with only these two methods?\n",
        "```java\n",
        "void h(long x) {}\n",
        "void h(float x) {}\n",
        "```\n",
        "- A) `h(5)`\n",
        "- B) `h(5.0)`\n",
        "- C) `h(5f)`\n",
        "- D) None are ambiguous\n",
        "\n",
        "Answer: A\n",
        "\n",
        "5) Which statement is TRUE?\n",
        "- A) Parameter names affect the method signature.\n",
        "- B) Return type affects the method signature.\n",
        "- C) Access modifiers affect the method signature.\n",
        "- D) Overloading requires different parameter lists.\n",
        "\n",
        "Answer: D\n"
      ]
    },
    {
      "cell_type": "markdown",
      "metadata": {},
      "source": [
        "### Short answer\n",
        "- Explain why `int sum(int a, int b)` and `double sum(int a, int b)` cannot both exist.\n",
        "\n",
        "Answer: These two methods cannot both exist because they have identical method signatures. In Java (and most programming languages that support method overloading), the method signature consists of the method name and the parameter list (types and order), but not the return type. Since both methods are named sum and take the same parameters `(int a, int b)`, the compiler cannot distinguish between them based solely on return type. When a method is called with `sum(5, 3)`, the compiler wouldn't know which version to use, creating ambiguity.\n",
        "\n",
        "- In one sentence, distinguish parameters vs arguments.\n",
        "\n",
        "Answer: Parameters are the variables defined in a method's declaration that specify what data the method expects to receive, while arguments are the actual values passed to the method when it is called."
      ]
    },
    {
      "cell_type": "markdown",
      "metadata": {},
      "source": [
        "### Coding Tasks (write Java in code blocks; pseudo-Java acceptable)\n",
        "1) Write three overloads of `abs`: `int abs(int x)`, `double abs(double x)`, and `long abs(long x)`.\n",
        "2) Implement two overloads of `concat`:\n",
        "   - `String concat(String a, String b)` returns concatenation.\n",
        "   - `String concat(String a, int n)` returns `a` repeated `n` times.\n",
        "3) Determine output:\n",
        "```java\n",
        "static void show(int x) { System.out.println(\"int\"); }\n",
        "static void show(double x) { System.out.println(\"double\"); }\n",
        "static void show(long x) { System.out.println(\"long\"); }\n",
        "\n",
        "show(7);\n",
        "show(7L);\n",
        "show(7.0);\n",
        "```\n",
        "Write the expected output and a one-line explanation for each.\n"
      ]
    },
    {
      "cell_type": "code",
      "execution_count": 5,
      "metadata": {
        "vscode": {
          "languageId": "java"
        }
      },
      "outputs": [
        {
          "name": "stdout",
          "output_type": "stream",
          "text": [
            "int\n",
            "long\n",
            "double\n"
          ]
        }
      ],
      "source": [
        "// 1. Three overloads of abs:\n",
        "public static int abs(int x) {\n",
        "    if (x < 0) {\n",
        "        return -x;\n",
        "    }\n",
        "    return x;\n",
        "}\n",
        "\n",
        "public static double abs(double x) {\n",
        "    if (x < 0) {\n",
        "        return -x;\n",
        "    }\n",
        "    return x;\n",
        "}\n",
        "\n",
        "public static long abs(long x) {\n",
        "    if (x < 0) {\n",
        "        return -x;\n",
        "    }\n",
        "    return x;\n",
        "}\n",
        "\n",
        "// 2. Implement two overloads of concat\n",
        "public static String concat(String a, String b) {\n",
        "    return a + b;\n",
        "}\n",
        "\n",
        "public static String concat(String a, int n) {\n",
        "    String result = \"\";\n",
        "    for (int i = 0; i < n; i++) {\n",
        "        result += a;\n",
        "    }\n",
        "    return result;\n",
        "}\n",
        "\n",
        "// 3. Determine outputs\n",
        "show(7);\n",
        "show(7L);\n",
        "show(7.0);"
      ]
    },
    {
      "cell_type": "markdown",
      "metadata": {},
      "source": [
        "### Explanations - \n",
        "\n",
        "`show(7);` The literal 7 is an int, so it matches show(int x) exactly.\n",
        "\n",
        "`show(7L);` The literal 7L is a long, so it matches show(long x) exactly.\n",
        "\n",
        "`show(7.0);` The literal 7.0 is a double by default, so it matches show(double x) exactly"
      ]
    },
    {
      "cell_type": "markdown",
      "metadata": {},
      "source": [
        "### FRQ-style\n",
        "- FRQ 1. `indexOf(char target, String s)`: return the index of first `target` in `s` or `-1` if not found. Overload with `indexOf(String target, String s)` for first substring occurrence (without using library indexOf). State assumptions and constraints.\n",
        "- FRQ 2. Overload `clamp`:\n",
        "  - `int clamp(int value, int low, int high)` returns `value` confined to `[low, high]`.\n",
        "  - `double clamp(double value, double low, double high)` similarly for doubles.\n",
        "  Handle the case `low > high` by swapping.\n"
      ]
    },
    {
      "cell_type": "code",
      "execution_count": 6,
      "metadata": {
        "vscode": {
          "languageId": "java"
        }
      },
      "outputs": [
        {
          "name": "stdout",
          "output_type": "stream",
          "text": [
            "1\n",
            "-1\n",
            "1\n",
            "-1\n"
          ]
        }
      ],
      "source": [
        "// FRQ 1:\n",
        "public class FRQ_IndexOf {\n",
        "\n",
        "    public static int indexOf(char target, String s) {\n",
        "        for (int i = 0; i < s.length(); i++) {\n",
        "            if (s.charAt(i) == target) {\n",
        "                return i;\n",
        "            }\n",
        "        }\n",
        "        return -1; \n",
        "    }\n",
        "\n",
        "    public static int indexOf(String target, String s) {\n",
        "        int lenT = target.length();\n",
        "        int lenS = s.length();\n",
        "\n",
        "        for (int i = 0; i <= lenS - lenT; i++) {\n",
        "            boolean match = true;\n",
        "            for (int j = 0; j < lenT; j++) {\n",
        "                if (s.charAt(i + j) != target.charAt(j)) {\n",
        "                    match = false;\n",
        "                    break;\n",
        "                }\n",
        "            }\n",
        "            if (match) return i;\n",
        "        }\n",
        "        return -1; \n",
        "    }\n",
        "\n",
        "    public static void main(String[] args) {\n",
        "        System.out.println(indexOf('e', \"hello\"));       // 1\n",
        "        System.out.println(indexOf('z', \"hello\"));       // -1\n",
        "        System.out.println(indexOf(\"ell\", \"hello\"));     // 1\n",
        "        System.out.println(indexOf(\"world\", \"hello\"));   // -1\n",
        "    }\n",
        "}\n",
        "FRQ_IndexOf.main(null);"
      ]
    },
    {
      "cell_type": "code",
      "execution_count": 7,
      "metadata": {
        "vscode": {
          "languageId": "java"
        }
      },
      "outputs": [
        {
          "name": "stdout",
          "output_type": "stream",
          "text": [
            "5\n",
            "0\n",
            "10\n",
            "3.5\n"
          ]
        }
      ],
      "source": [
        "// FRQ 2:\n",
        "public class FRQ_Clamp {\n",
        "\n",
        "    public static int clamp(int value, int low, int high) {\n",
        "        if (low > high) { \n",
        "            int temp = low;\n",
        "            low = high;\n",
        "            high = temp;\n",
        "        }\n",
        "\n",
        "        if (value < low) return low;\n",
        "        if (value > high) return high;\n",
        "        return value;\n",
        "    }\n",
        "\n",
        "    public static double clamp(double value, double low, double high) {\n",
        "        if (low > high) { \n",
        "            double temp = low;\n",
        "            low = high;\n",
        "            high = temp;\n",
        "        }\n",
        "\n",
        "        if (value < low) return low;\n",
        "        if (value > high) return high;\n",
        "        return value;\n",
        "    }\n",
        "\n",
        "    // Quick test\n",
        "    public static void main(String[] args) {\n",
        "        System.out.println(clamp(5, 1, 10));     \n",
        "        System.out.println(clamp(-3, 0, 10));   \n",
        "        System.out.println(clamp(15, 0, 10));    \n",
        "        System.out.println(clamp(3.5, 5.0, 2.0)); \n",
        "    }\n",
        "}\n",
        "\n",
        "FRQ_Clamp.main(null);"
      ]
    },
    {
      "cell_type": "markdown",
      "metadata": {},
      "source": [
        "### Submission checklist\n",
        "- MCQs completed on the Google Form.\n",
        "- This notebook executes top-to-bottom with outputs visible.\n",
        "- Answers are clear and concise.\n"
      ]
    }
  ],
  "metadata": {
    "kernelspec": {
      "display_name": "java (JJava/j!)",
      "language": "java",
      "name": "jbang-jjava"
    },
    "language_info": {
      "codemirror_mode": "java",
      "file_extension": ".jshell",
      "mimetype": "text/x-java-source",
      "name": "Java",
      "pygments_lexer": "java",
      "version": "17.0.16+0"
    }
  },
  "nbformat": 4,
  "nbformat_minor": 2
}
